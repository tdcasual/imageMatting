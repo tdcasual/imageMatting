{
 "cells": [
  {
   "cell_type": "code",
   "execution_count": 1,
   "id": "776b8c0d-6af2-47a7-8537-e938ae95d10b",
   "metadata": {
    "ExecutionIndicator": {
     "show": true
    },
    "execution": {
     "iopub.execute_input": "2024-03-27T18:01:24.407558Z",
     "iopub.status.busy": "2024-03-27T18:01:24.407416Z",
     "iopub.status.idle": "2024-03-27T18:01:24.698384Z",
     "shell.execute_reply": "2024-03-27T18:01:24.697951Z",
     "shell.execute_reply.started": "2024-03-27T18:01:24.407544Z"
    },
    "tags": []
   },
   "outputs": [
    {
     "name": "stdout",
     "output_type": "stream",
     "text": [
      "Alpha  Composition_code.py  FG\ttraining_bg_names.txt  training_fg_names.txt\n"
     ]
    }
   ],
   "source": [
    "!ls /mnt/data/Train/"
   ]
  },
  {
   "cell_type": "code",
   "execution_count": 2,
   "id": "72e6c270-a554-4dd8-b2c1-62a594e45eaf",
   "metadata": {
    "ExecutionIndicator": {
     "show": true
    },
    "execution": {
     "iopub.execute_input": "2024-03-27T18:01:24.699753Z",
     "iopub.status.busy": "2024-03-27T18:01:24.699357Z",
     "iopub.status.idle": "2024-03-27T18:01:24.702126Z",
     "shell.execute_reply": "2024-03-27T18:01:24.701652Z",
     "shell.execute_reply.started": "2024-03-27T18:01:24.699737Z"
    },
    "tags": []
   },
   "outputs": [],
   "source": [
    "#!pip3 install scipy"
   ]
  },
  {
   "cell_type": "code",
   "execution_count": 3,
   "id": "ac6a2bf1-8448-42e5-8ed7-627a8bf4f0ff",
   "metadata": {
    "ExecutionIndicator": {
     "show": false
    },
    "execution": {
     "iopub.execute_input": "2024-03-27T18:01:24.702744Z",
     "iopub.status.busy": "2024-03-27T18:01:24.702617Z",
     "iopub.status.idle": "2024-03-27T18:01:26.387904Z",
     "shell.execute_reply": "2024-03-27T18:01:26.387474Z",
     "shell.execute_reply.started": "2024-03-27T18:01:24.702732Z"
    },
    "tags": []
   },
   "outputs": [],
   "source": [
    "import torch\n",
    "from src.models.modnet import MODNet\n",
    "from src.trainer import supervised_training_iter\n",
    "from torch.utils.data import DataLoader\n",
    "from torch.utils.data import Dataset\n",
    "from torchvision import transforms\n",
    "import numpy as np\n",
    "import cv2\n",
    "from skimage import morphology\n",
    "from scipy.ndimage import distance_transform_edt\n",
    "import torch.nn.functional as F\n",
    "import torch\n",
    "from PIL import Image, ImageOps\n",
    "import pandas as pd\n",
    "from pathlib import Path\n",
    "import pandas as pd\n",
    "from torch.utils.tensorboard import SummaryWriter"
   ]
  },
  {
   "cell_type": "code",
   "execution_count": 4,
   "id": "93f61526-d879-4bab-80df-a9a5db4bd910",
   "metadata": {
    "ExecutionIndicator": {
     "show": false
    },
    "execution": {
     "iopub.execute_input": "2024-03-27T18:01:26.388691Z",
     "iopub.status.busy": "2024-03-27T18:01:26.388472Z",
     "iopub.status.idle": "2024-03-27T18:01:27.389792Z",
     "shell.execute_reply": "2024-03-27T18:01:27.389420Z",
     "shell.execute_reply.started": "2024-03-27T18:01:26.388676Z"
    },
    "tags": []
   },
   "outputs": [
    {
     "data": {
      "text/html": [
       "<div>\n",
       "<style scoped>\n",
       "    .dataframe tbody tr th:only-of-type {\n",
       "        vertical-align: middle;\n",
       "    }\n",
       "\n",
       "    .dataframe tbody tr th {\n",
       "        vertical-align: top;\n",
       "    }\n",
       "\n",
       "    .dataframe thead th {\n",
       "        text-align: right;\n",
       "    }\n",
       "</style>\n",
       "<table border=\"1\" class=\"dataframe\">\n",
       "  <thead>\n",
       "    <tr style=\"text-align: right;\">\n",
       "      <th></th>\n",
       "      <th>FG</th>\n",
       "      <th>Alpha</th>\n",
       "    </tr>\n",
       "  </thead>\n",
       "  <tbody>\n",
       "    <tr>\n",
       "      <th>0</th>\n",
       "      <td>/mnt/data/Train/FG/0000.png</td>\n",
       "      <td>/mnt/data/Train/Alpha/0000.png</td>\n",
       "    </tr>\n",
       "    <tr>\n",
       "      <th>1</th>\n",
       "      <td>/mnt/data/Train/FG/0001.png</td>\n",
       "      <td>/mnt/data/Train/Alpha/0001.png</td>\n",
       "    </tr>\n",
       "    <tr>\n",
       "      <th>2</th>\n",
       "      <td>/mnt/data/Train/FG/0002.png</td>\n",
       "      <td>/mnt/data/Train/Alpha/0002.png</td>\n",
       "    </tr>\n",
       "    <tr>\n",
       "      <th>3</th>\n",
       "      <td>/mnt/data/Train/FG/0003.png</td>\n",
       "      <td>/mnt/data/Train/Alpha/0003.png</td>\n",
       "    </tr>\n",
       "    <tr>\n",
       "      <th>4</th>\n",
       "      <td>/mnt/data/Train/FG/0004.png</td>\n",
       "      <td>/mnt/data/Train/Alpha/0004.png</td>\n",
       "    </tr>\n",
       "  </tbody>\n",
       "</table>\n",
       "</div>"
      ],
      "text/plain": [
       "                            FG                           Alpha\n",
       "0  /mnt/data/Train/FG/0000.png  /mnt/data/Train/Alpha/0000.png\n",
       "1  /mnt/data/Train/FG/0001.png  /mnt/data/Train/Alpha/0001.png\n",
       "2  /mnt/data/Train/FG/0002.png  /mnt/data/Train/Alpha/0002.png\n",
       "3  /mnt/data/Train/FG/0003.png  /mnt/data/Train/Alpha/0003.png\n",
       "4  /mnt/data/Train/FG/0004.png  /mnt/data/Train/Alpha/0004.png"
      ]
     },
     "execution_count": 4,
     "metadata": {},
     "output_type": "execute_result"
    }
   ],
   "source": [
    "\n",
    "\n",
    "# Set the base path for the dataset\n",
    "base_path = Path(\"/mnt/data/Train/\")\n",
    "\n",
    "# Correcting the approach to construct the DataFrame without using 'append' in a loop\n",
    "\n",
    "# Re-list the FG and Alpha images in case there was an issue with the initial listing\n",
    "fg_images = list((base_path / \"FG\").rglob(\"*.*\"))\n",
    "alpha_images = list((base_path / \"Alpha\").rglob(\"*.*\"))\n",
    "\n",
    "# Initialize lists for holding the matched file paths\n",
    "fg_file_paths = []\n",
    "alpha_file_paths = []\n",
    "\n",
    "# Map of alpha files for quick lookup by name\n",
    "alpha_files_map = {alpha_image.name: alpha_image for alpha_image in alpha_images}\n",
    "\n",
    "# Iterate over FG images and find corresponding Alpha images by name\n",
    "for fg_image_path in fg_images:\n",
    "    file_name = fg_image_path.name\n",
    "    if file_name in alpha_files_map:\n",
    "        # If the corresponding Alpha file is found, add both paths to the lists\n",
    "        fg_file_paths.append(str(fg_image_path))\n",
    "        alpha_file_paths.append(str(alpha_files_map[file_name]))\n",
    "\n",
    "# Create the DataFrame directly from the lists of file paths\n",
    "df_files_corrected = pd.DataFrame({\n",
    "    \"FG\": fg_file_paths,\n",
    "    \"Alpha\": alpha_file_paths\n",
    "})\n",
    "\n",
    "df_files_corrected.head()\n",
    "\n"
   ]
  },
  {
   "cell_type": "code",
   "execution_count": 5,
   "id": "365aac4f-4e12-4127-9991-896135258373",
   "metadata": {
    "ExecutionIndicator": {
     "show": true
    },
    "execution": {
     "iopub.execute_input": "2024-03-27T18:01:27.391251Z",
     "iopub.status.busy": "2024-03-27T18:01:27.390936Z",
     "iopub.status.idle": "2024-03-27T18:01:27.394375Z",
     "shell.execute_reply": "2024-03-27T18:01:27.393973Z",
     "shell.execute_reply.started": "2024-03-27T18:01:27.391227Z"
    },
    "tags": []
   },
   "outputs": [],
   "source": [
    "def group_images_by_size(annotations_df):\n",
    "    # 创建一个字典来存储不同尺寸的图片路径\n",
    "    size_to_paths = {}\n",
    "\n",
    "    # 遍历DataFrame中的每一行\n",
    "    for index, row in annotations_df.iterrows():\n",
    "        img_path = row[0]  # 第一列是原图文件的位置\n",
    "        # 获取图片尺寸\n",
    "        with Image.open(img_path) as img:\n",
    "            size = img.size\n",
    "\n",
    "        # 将具有相同尺寸的图片路径分组\n",
    "        if size not in size_to_paths:\n",
    "            size_to_paths[size] = [index]\n",
    "        else:\n",
    "            size_to_paths[size].append(index)\n",
    "\n",
    "    # 根据分组创建新的DataFrame列表\n",
    "    grouped_annotations_files = []\n",
    "    for indices in size_to_paths.values():\n",
    "        grouped_df = annotations_df.iloc[indices]\n",
    "        grouped_annotations_files.append(grouped_df)\n",
    "\n",
    "    return grouped_annotations_files\n"
   ]
  },
  {
   "cell_type": "code",
   "execution_count": 6,
   "id": "6f3adac9-351a-4399-bbc8-1c140e2086df",
   "metadata": {
    "ExecutionIndicator": {
     "show": false
    },
    "execution": {
     "iopub.execute_input": "2024-03-27T18:01:27.395222Z",
     "iopub.status.busy": "2024-03-27T18:01:27.394939Z",
     "iopub.status.idle": "2024-03-27T18:02:34.352036Z",
     "shell.execute_reply": "2024-03-27T18:02:34.351631Z",
     "shell.execute_reply.started": "2024-03-27T18:01:27.395202Z"
    },
    "tags": []
   },
   "outputs": [
    {
     "name": "stderr",
     "output_type": "stream",
     "text": [
      "/tmp/ipykernel_2143/3933085751.py:7: FutureWarning: Series.__getitem__ treating keys as positions is deprecated. In a future version, integer keys will always be treated as labels (consistent with DataFrame behavior). To access a value by position, use `ser.iloc[pos]`\n",
      "  img_path = row[0]  # 第一列是原图文件的位置\n"
     ]
    },
    {
     "data": {
      "text/plain": [
       "(207, 2)"
      ]
     },
     "execution_count": 6,
     "metadata": {},
     "output_type": "execute_result"
    }
   ],
   "source": [
    "file_size = group_images_by_size(df_files_corrected)\n",
    "file_size[0].shape"
   ]
  },
  {
   "cell_type": "code",
   "execution_count": 26,
   "id": "a5388619-d8de-434e-af15-01e5412d21fc",
   "metadata": {
    "ExecutionIndicator": {
     "show": true
    },
    "execution": {
     "iopub.execute_input": "2024-03-27T23:30:03.566700Z",
     "iopub.status.busy": "2024-03-27T23:30:03.566435Z",
     "iopub.status.idle": "2024-03-27T23:30:03.572590Z",
     "shell.execute_reply": "2024-03-27T23:30:03.572204Z",
     "shell.execute_reply.started": "2024-03-27T23:30:03.566683Z"
    },
    "tags": []
   },
   "outputs": [
    {
     "data": {
      "text/html": [
       "<div>\n",
       "<style scoped>\n",
       "    .dataframe tbody tr th:only-of-type {\n",
       "        vertical-align: middle;\n",
       "    }\n",
       "\n",
       "    .dataframe tbody tr th {\n",
       "        vertical-align: top;\n",
       "    }\n",
       "\n",
       "    .dataframe thead th {\n",
       "        text-align: right;\n",
       "    }\n",
       "</style>\n",
       "<table border=\"1\" class=\"dataframe\">\n",
       "  <thead>\n",
       "    <tr style=\"text-align: right;\">\n",
       "      <th></th>\n",
       "      <th>FG</th>\n",
       "      <th>Alpha</th>\n",
       "    </tr>\n",
       "  </thead>\n",
       "  <tbody>\n",
       "    <tr>\n",
       "      <th>1</th>\n",
       "      <td>/mnt/data/Train/FG/0001.png</td>\n",
       "      <td>/mnt/data/Train/Alpha/0001.png</td>\n",
       "    </tr>\n",
       "    <tr>\n",
       "      <th>2</th>\n",
       "      <td>/mnt/data/Train/FG/0002.png</td>\n",
       "      <td>/mnt/data/Train/Alpha/0002.png</td>\n",
       "    </tr>\n",
       "    <tr>\n",
       "      <th>3</th>\n",
       "      <td>/mnt/data/Train/FG/0003.png</td>\n",
       "      <td>/mnt/data/Train/Alpha/0003.png</td>\n",
       "    </tr>\n",
       "    <tr>\n",
       "      <th>4</th>\n",
       "      <td>/mnt/data/Train/FG/0004.png</td>\n",
       "      <td>/mnt/data/Train/Alpha/0004.png</td>\n",
       "    </tr>\n",
       "    <tr>\n",
       "      <th>5</th>\n",
       "      <td>/mnt/data/Train/FG/0005.png</td>\n",
       "      <td>/mnt/data/Train/Alpha/0005.png</td>\n",
       "    </tr>\n",
       "    <tr>\n",
       "      <th>...</th>\n",
       "      <td>...</td>\n",
       "      <td>...</td>\n",
       "    </tr>\n",
       "    <tr>\n",
       "      <th>1158</th>\n",
       "      <td>/mnt/data/Train/FG/H_293.png</td>\n",
       "      <td>/mnt/data/Train/Alpha/H_293.png</td>\n",
       "    </tr>\n",
       "    <tr>\n",
       "      <th>1234</th>\n",
       "      <td>/mnt/data/Train/FG/H_372.png</td>\n",
       "      <td>/mnt/data/Train/Alpha/H_372.png</td>\n",
       "    </tr>\n",
       "    <tr>\n",
       "      <th>1267</th>\n",
       "      <td>/mnt/data/Train/FG/H_414.png</td>\n",
       "      <td>/mnt/data/Train/Alpha/H_414.png</td>\n",
       "    </tr>\n",
       "    <tr>\n",
       "      <th>1299</th>\n",
       "      <td>/mnt/data/Train/FG/H_451.png</td>\n",
       "      <td>/mnt/data/Train/Alpha/H_451.png</td>\n",
       "    </tr>\n",
       "    <tr>\n",
       "      <th>1425</th>\n",
       "      <td>/mnt/data/Train/FG/H_589.png</td>\n",
       "      <td>/mnt/data/Train/Alpha/H_589.png</td>\n",
       "    </tr>\n",
       "  </tbody>\n",
       "</table>\n",
       "<p>397 rows × 2 columns</p>\n",
       "</div>"
      ],
      "text/plain": [
       "                                FG                            Alpha\n",
       "1      /mnt/data/Train/FG/0001.png   /mnt/data/Train/Alpha/0001.png\n",
       "2      /mnt/data/Train/FG/0002.png   /mnt/data/Train/Alpha/0002.png\n",
       "3      /mnt/data/Train/FG/0003.png   /mnt/data/Train/Alpha/0003.png\n",
       "4      /mnt/data/Train/FG/0004.png   /mnt/data/Train/Alpha/0004.png\n",
       "5      /mnt/data/Train/FG/0005.png   /mnt/data/Train/Alpha/0005.png\n",
       "...                            ...                              ...\n",
       "1158  /mnt/data/Train/FG/H_293.png  /mnt/data/Train/Alpha/H_293.png\n",
       "1234  /mnt/data/Train/FG/H_372.png  /mnt/data/Train/Alpha/H_372.png\n",
       "1267  /mnt/data/Train/FG/H_414.png  /mnt/data/Train/Alpha/H_414.png\n",
       "1299  /mnt/data/Train/FG/H_451.png  /mnt/data/Train/Alpha/H_451.png\n",
       "1425  /mnt/data/Train/FG/H_589.png  /mnt/data/Train/Alpha/H_589.png\n",
       "\n",
       "[397 rows x 2 columns]"
      ]
     },
     "execution_count": 26,
     "metadata": {},
     "output_type": "execute_result"
    }
   ],
   "source": [
    "file_size[1]"
   ]
  },
  {
   "cell_type": "code",
   "execution_count": 8,
   "id": "1d25c604-ef46-46ba-a2ae-98e30f0529ae",
   "metadata": {
    "ExecutionIndicator": {
     "show": true
    },
    "execution": {
     "iopub.execute_input": "2024-03-27T18:02:34.359260Z",
     "iopub.status.busy": "2024-03-27T18:02:34.359117Z",
     "iopub.status.idle": "2024-03-27T18:02:34.368537Z",
     "shell.execute_reply": "2024-03-27T18:02:34.368072Z",
     "shell.execute_reply.started": "2024-03-27T18:02:34.359246Z"
    },
    "tags": []
   },
   "outputs": [],
   "source": [
    "class OriginModNetDataLoader(Dataset):\n",
    "    def __init__(self, annotations_file, resize_dim, transform=None):\n",
    "        self.img_labels =annotations_file\n",
    "        self.transform=transform\n",
    "        self.resize_dim=resize_dim\n",
    "\n",
    "    def __len__(self):\n",
    "        #return the total number of images\n",
    "        return len(self.img_labels)\n",
    "\n",
    "    def __getitem__(self, idx):\n",
    "        #print(idx)\n",
    "        img_path = self.img_labels.iloc[idx,0]\n",
    "        mask_path = self.img_labels.iloc[idx,1]\n",
    "        #print(img_path,mask_path)\n",
    "        temp_image = Image.open(img_path)\n",
    "        #temp_image.show()\n",
    "        img = np.asarray(temp_image)\n",
    "        #display(img_path)\n",
    "        mask = cv2.imread(mask_path, cv2.IMREAD_UNCHANGED)\n",
    "        #stupid = Image.open(mask_path)\n",
    "        #stupid.show()\n",
    "        #print(img.shape)\n",
    "        #print(in_image.shape)\n",
    "        #mask = in_image[:,:,3]\n",
    "        \n",
    "\n",
    "        if len(img.shape)==2:\n",
    "            img = img[:,:,None]\n",
    "        if img.shape[2]==1:\n",
    "            img = np.repeat(img, 3, axis=2)\n",
    "        elif img.shape[2]==4:\n",
    "            img = img[:,:,0:3]\n",
    "\n",
    "        if len(mask.shape)==3:\n",
    "            mask = mask[:,:, 0]\n",
    "\n",
    "        #convert Image to pytorch tensor\n",
    "        img = Image.fromarray(img)\n",
    "        mask = Image.fromarray(mask)\n",
    "        if self.transform:\n",
    "            img = self.transform(img)\n",
    "            trimap = self.get_trimap(mask)\n",
    "            mask = self.transform(mask)\n",
    "\n",
    "        img = self._resize(img)\n",
    "        mask = self._resize(mask)\n",
    "        trimap = self._resize(trimap, trimap=True)\n",
    "\n",
    "        img = torch.squeeze(img, 0)\n",
    "        mask = torch.squeeze(mask, 0)\n",
    "        trimap = torch.squeeze(trimap, 1)\n",
    "        #print(img.shape,trimap.shape,mask.shape)\n",
    "        return img.cuda(), trimap.cuda(), mask.cuda()\n",
    "\n",
    "    def get_trimap(self, alpha):\n",
    "        # alpha \\in [0, 1] should be taken into account\n",
    "        # be careful when dealing with regions of alpha=0 and alpha=1\n",
    "        fg = np.array(np.equal(alpha, 255).astype(np.float32))\n",
    "        unknown = np.array(np.not_equal(alpha, 0).astype(np.float32)) # unknown = alpha > 0\n",
    "        unknown = unknown - fg\n",
    "        # image dilation implemented by Euclidean distance transform\n",
    "        unknown = distance_transform_edt(unknown==0) <= np.random.randint(1, 20)\n",
    "        trimap = fg\n",
    "        trimap[unknown] = 0.5\n",
    "        return torch.unsqueeze(torch.from_numpy(trimap), dim=0)#.astype(np.uint8)\n",
    "\n",
    "    def ori_resize(self, img, trimap=False):\n",
    "        im = img[None, :, :, :]\n",
    "        ref_size = self.resize_dim\n",
    "\n",
    "        # resize image for input\n",
    "        im_b, im_c, im_h, im_w = im.shape\n",
    "        if max(im_h, im_w) < ref_size or min(im_h, im_w) > ref_size:\n",
    "            if im_w >= im_h:\n",
    "                im_rh = ref_size\n",
    "                im_rw = int(im_w / im_h * ref_size)\n",
    "            elif im_w < im_h:\n",
    "                im_rw = ref_size\n",
    "                im_rh = int(im_h / im_w * ref_size)\n",
    "        else:\n",
    "            im_rh = im_h\n",
    "            im_rw = im_w\n",
    "\n",
    "        im_rw = im_rw - im_rw % 32\n",
    "        im_rh = im_rh - im_rh % 32\n",
    "        im_rw=512\n",
    "        im_rh=512\n",
    "        if trimap == True:\n",
    "            im = F.interpolate(im, size=(im_rh, im_rw), mode='nearest')\n",
    "        else:\n",
    "            im = F.interpolate(im, size=(im_rh, im_rw), mode='area')\n",
    "        #imb =transforms.ToPILImage()(im.squeeze().cpu())\n",
    "        #imb.show()\n",
    "        return im\n",
    "    def _resize(self, img, trimap=False):\n",
    "        im = img[None, :, :, :]\n",
    "        ref_size = self.resize_dim\n",
    "\n",
    "    # 计算调整后的图片尺寸\n",
    "        im_b, im_c, im_h, im_w = im.shape\n",
    "        if im_h > 1024 or im_w > 1024:\n",
    "            scale_factor = 0.5  # 如果任一边大于1024，则缩放因子为0.5\n",
    "        else:\n",
    "            scale_factor = min(ref_size / max(im_h, im_w), ref_size / min(im_h, im_w))\n",
    "    \n",
    "        im_rh = int(im_h * scale_factor)\n",
    "        im_rw = int(im_w * scale_factor)\n",
    "\n",
    "        # 确保尺寸能被32整除\n",
    "        im_rh = im_rh + (32 - im_rh % 32) if im_rh % 32 != 0 else im_rh\n",
    "        im_rw = im_rw + (32 - im_rw % 32) if im_rw % 32 != 0 else im_rw\n",
    "\n",
    "        # 根据是否是trimap选择插值方法\n",
    "        if trimap:\n",
    "            im = F.interpolate(im, size=(im_rh, im_rw), mode='nearest')\n",
    "        else:\n",
    "            im = F.interpolate(im, size=(im_rh, im_rw), mode='area')\n",
    "\n",
    "        return im\n"
   ]
  },
  {
   "cell_type": "code",
   "execution_count": 9,
   "id": "69bbd5ea-2db4-4a67-8beb-85babd7d4c0e",
   "metadata": {
    "ExecutionIndicator": {
     "show": false
    },
    "execution": {
     "iopub.execute_input": "2024-03-27T18:02:34.369139Z",
     "iopub.status.busy": "2024-03-27T18:02:34.369015Z",
     "iopub.status.idle": "2024-03-27T18:02:34.374119Z",
     "shell.execute_reply": "2024-03-27T18:02:34.373683Z",
     "shell.execute_reply.started": "2024-03-27T18:02:34.369127Z"
    },
    "tags": []
   },
   "outputs": [],
   "source": [
    "class ImageMatteLoader:\n",
    "    def __init__(self, annotations_file):\n",
    "        self.annotations_file = annotations_file\n",
    "    \n",
    "    def __len__(self):\n",
    "        # 返回DataFrame的长度，即图像对的数量\n",
    "        return len(self.annotations_file)\n",
    "    \n",
    "    def __getitem__(self, idx):\n",
    "        # 根据索引idx获取对应的原图和matte图像的路径\n",
    "        img_path = self.annotations_file.iloc[idx, 0]\n",
    "        matte_path = self.annotations_file.iloc[idx, 1]\n",
    "        \n",
    "        # 加载原图和matte图像\n",
    "        image = Image.open(img_path)\n",
    "        matte = Image.open(matte_path)\n",
    "        \n",
    "        return image, matte\n",
    "\n",
    "    def show(self, idx):\n",
    "        # 根据索引idx获取对应的原图和matte图像\n",
    "        image, matte = self.__getitem__(idx)\n",
    "        \n",
    "        # 合并原图和matte\n",
    "        combined = self.combined_display(image, matte)\n",
    "        \n",
    "        # 显示合并后的图像\n",
    "        combined.show()\n",
    "\n",
    "    def combined_display(self, image, matte):\n",
    "        # 计算显示分辨率\n",
    "        w, h = image.width, image.height\n",
    "        rw, rh = 800, int(h * 800 / (3 * w))\n",
    "        \n",
    "        # 获取预测的前景\n",
    "        image = np.asarray(image)\n",
    "        if len(image.shape) == 2:\n",
    "            image = image[:, :, None]\n",
    "        if image.shape[2] == 1:\n",
    "            image = np.repeat(image, 3, axis=2)\n",
    "        elif image.shape[2] == 4:\n",
    "            image = image[:, :, 0:3]\n",
    "        matte = np.repeat(np.asarray(matte)[:, :, None], 3, axis=2) / 255\n",
    "        foreground = image * matte + np.full(image.shape, 255) * (1 - matte)\n",
    "        \n",
    "        # 将原图、前景、和alpha通道合并为一行\n",
    "        combined = np.concatenate((image, foreground, matte * 255), axis=1)\n",
    "        combined = Image.fromarray(np.uint8(combined)).resize((rw, rh))\n",
    "        return combined\n",
    "\n"
   ]
  },
  {
   "cell_type": "code",
   "execution_count": 10,
   "id": "29a7c295-cd2d-4e87-8aa4-787e0ed75ccc",
   "metadata": {
    "ExecutionIndicator": {
     "show": true
    },
    "execution": {
     "iopub.execute_input": "2024-03-27T18:02:34.374836Z",
     "iopub.status.busy": "2024-03-27T18:02:34.374615Z",
     "iopub.status.idle": "2024-03-27T18:02:34.377180Z",
     "shell.execute_reply": "2024-03-27T18:02:34.376789Z",
     "shell.execute_reply.started": "2024-03-27T18:02:34.374824Z"
    },
    "tags": []
   },
   "outputs": [],
   "source": [
    "#train_data = ModNetDataLoader(df_files_corrected,1080,True)\n",
    "transformer = transforms.Compose(\n",
    "        [\n",
    "            transforms.ToTensor(),\n",
    "            transforms.Normalize((0.5), (0.5)\n",
    "            )\n",
    "        ]\n",
    "    )\n",
    "data = OriginModNetDataLoader(file_size[1], 512, transform=transformer)\n",
    "raw_data = ImageMatteLoader(file_size[1])"
   ]
  },
  {
   "cell_type": "code",
   "execution_count": 24,
   "id": "a77d1083-4480-4ec7-a851-75c3812d87a1",
   "metadata": {
    "ExecutionIndicator": {
     "show": true
    },
    "execution": {
     "iopub.execute_input": "2024-03-27T23:29:35.377650Z",
     "iopub.status.busy": "2024-03-27T23:29:35.377392Z",
     "iopub.status.idle": "2024-03-27T23:29:35.451031Z",
     "shell.execute_reply": "2024-03-27T23:29:35.450605Z",
     "shell.execute_reply.started": "2024-03-27T23:29:35.377634Z"
    },
    "tags": []
   },
   "outputs": [
    {
     "data": {
      "text/plain": [
       "(<PIL.PngImagePlugin.PngImageFile image mode=RGB size=2350x1567>,\n",
       " <PIL.PngImagePlugin.PngImageFile image mode=L size=2350x1567>)"
      ]
     },
     "execution_count": 24,
     "metadata": {},
     "output_type": "execute_result"
    }
   ],
   "source": [
    "raw_data[5]"
   ]
  },
  {
   "cell_type": "code",
   "execution_count": 12,
   "id": "70b63107-3eb7-411c-851c-4f096bf8fe28",
   "metadata": {
    "ExecutionIndicator": {
     "show": true
    },
    "execution": {
     "iopub.execute_input": "2024-03-27T18:02:34.841016Z",
     "iopub.status.busy": "2024-03-27T18:02:34.840873Z",
     "iopub.status.idle": "2024-03-27T18:02:34.847745Z",
     "shell.execute_reply": "2024-03-27T18:02:34.847314Z",
     "shell.execute_reply.started": "2024-03-27T18:02:34.841003Z"
    },
    "tags": []
   },
   "outputs": [],
   "source": [
    "\n",
    "\n",
    "class ModNetImageGenerator(Dataset):\n",
    "    def __init__(self, annotations_file, modnet, transform=None):\n",
    "        self.img_paths = annotations_file\n",
    "        self.modnet = modnet\n",
    "        self.transform = transform\n",
    "        self.modnet.eval()  # 确保MODNet处于评估模式\n",
    "    \n",
    "    def __len__(self):\n",
    "        return len(self.img_paths)\n",
    "    \n",
    "    def __getitem__(self, idx):\n",
    "        img_path = self.img_paths.iloc[idx, 0]\n",
    "        image = Image.open(img_path).convert(\"RGB\")\n",
    "        \n",
    "        # 调整图像尺寸使其符合模型要求\n",
    "        original_size = image.size\n",
    "        adjusted_size = [((dim + 31) // 32) * 32 for dim in original_size]  # 使尺寸成为32的倍数\n",
    "        image = image.resize(adjusted_size, Image.Resampling.LANCZOS)\n",
    "        \n",
    "        # 如果有额外的图像预处理步骤\n",
    "        if self.transform:\n",
    "            transformed_img = self.transform(image)\n",
    "        else:\n",
    "            # 默认的图像预处理\n",
    "            transform = transforms.Compose([\n",
    "                transforms.ToTensor(),\n",
    "                transforms.Normalize(mean=[0.485, 0.456, 0.406], std=[0.229, 0.224, 0.225]),\n",
    "            ])\n",
    "            transformed_img = transform(image)\n",
    "        \n",
    "        # 使用MODNet预测matte\n",
    "        with torch.no_grad():\n",
    "            matte_tensor = self.modnet(transformed_img.unsqueeze(0).cuda(),False)[2]\n",
    "        \n",
    "        # 调整matte尺寸回原始尺寸\n",
    "        matte = transforms.functional.to_pil_image(matte_tensor.squeeze(0))\n",
    "        matte = matte.resize(original_size, Image.Resampling.LANCZOS)\n",
    "        \n",
    "        return image.resize(original_size, Image.Resampling.LANCZOS), matte\n",
    "    \n",
    "    def show(self, idx):\n",
    "        image, matte_img = self.__getitem__(idx)\n",
    "        # 此处可以添加显示图像和matte的代码\n",
    "        combined = self.combined_display(image, matte_img)\n",
    "        combined.show()\n",
    "\n",
    "    def combined_display(self, image, matte):\n",
    "        #计算显示分辨率\n",
    "        w, h = image.width, image.height\n",
    "        rw, rh = 800, int(h * 800 / (3 * w))\n",
    "        \n",
    "        # 获取预测的前景\n",
    "        image = np.asarray(image)\n",
    "        if len(image.shape) == 2:\n",
    "            image = image[:, :, None]\n",
    "        if image.shape[2] == 1:\n",
    "            image = np.repeat(image, 3, axis=2)\n",
    "        elif image.shape[2] == 4:\n",
    "            image = image[:, :, 0:3]\n",
    "        matte = np.repeat(np.asarray(matte)[:, :, None], 3, axis=2) / 255\n",
    "        foreground = image * matte + np.full(image.shape, 255) * (1 - matte)\n",
    "        \n",
    "        # 将原图、前景、和alpha通道合并为一行\n",
    "        combined = np.concatenate((image, foreground, matte * 255), axis=1)\n",
    "        combined = Image.fromarray(np.uint8(combined)).resize((rw, rh))\n",
    "        return combined\n"
   ]
  },
  {
   "cell_type": "code",
   "execution_count": 13,
   "id": "737ecfb6-fcf4-49b2-8556-2a0c3cf63c75",
   "metadata": {
    "ExecutionIndicator": {
     "show": false
    },
    "execution": {
     "iopub.execute_input": "2024-03-27T18:02:34.848437Z",
     "iopub.status.busy": "2024-03-27T18:02:34.848312Z",
     "iopub.status.idle": "2024-03-27T20:22:13.519875Z",
     "shell.execute_reply": "2024-03-27T20:22:13.519134Z",
     "shell.execute_reply.started": "2024-03-27T18:02:34.848427Z"
    },
    "tags": []
   },
   "outputs": [
    {
     "ename": "NameError",
     "evalue": "name 'model' is not defined",
     "output_type": "error",
     "traceback": [
      "\u001b[0;31m---------------------------------------------------------------------------\u001b[0m",
      "\u001b[0;31mNameError\u001b[0m                                 Traceback (most recent call last)",
      "Cell \u001b[0;32mIn[13], line 47\u001b[0m\n\u001b[1;32m     44\u001b[0m     lr_scheduler\u001b[38;5;241m.\u001b[39mstep()\n\u001b[1;32m     46\u001b[0m  \u001b[38;5;66;03m# Turn off interactive mode when done to finalize the plot\u001b[39;00m\n\u001b[0;32m---> 47\u001b[0m torch\u001b[38;5;241m.\u001b[39msave(\u001b[43mmodel\u001b[49m\u001b[38;5;241m.\u001b[39mstate_dict(), \u001b[38;5;124m'\u001b[39m\u001b[38;5;124mmodel_path.pth\u001b[39m\u001b[38;5;124m'\u001b[39m)\n",
      "\u001b[0;31mNameError\u001b[0m: name 'model' is not defined"
     ]
    }
   ],
   "source": [
    "bs = 4         # batch size\n",
    "lr = 0.01       # learn rate\n",
    "epochs = 40     # total epochs\n",
    "train_dataloader = DataLoader(data, batch_size=bs, shuffle=True)\n",
    "modnet = torch.nn.DataParallel(MODNet()).cuda()\n",
    "optimizer = torch.optim.SGD(modnet.parameters(), lr=lr, momentum=0.9)\n",
    "lr_scheduler = torch.optim.lr_scheduler.StepLR(optimizer, step_size=int(0.25 * epochs), gamma=0.1)\n",
    "\n",
    "\n",
    "#dataloader = train-datalo(bs)     # NOTE: please finish this function\n",
    "\n",
    "#for epoch in range(0, epochs):\n",
    "#    for idx, (image, trimap, gt_matte) in enumerate(train_dataloader):\n",
    "#        semantic_loss, detail_loss, matte_loss = \\\n",
    "#            supervised_training_iter(modnet, optimizer, image, trimap, gt_matte)\n",
    "#        lr_scheduler.step()\n",
    "\n",
    "\n",
    "writer = SummaryWriter('runs/MODNet')\n",
    "update_freq = 100  # Update the plot every 100 iterations\n",
    "for epoch in range(0, epochs):\n",
    "    for idx, (image, trimap, gt_matte) in enumerate(train_dataloader):\n",
    "        # Your training step\n",
    "        semantic_loss, detail_loss, matte_loss = supervised_training_iter(modnet, optimizer, image, trimap, gt_matte)\n",
    "        writer.add_scalar('semantic', semantic_loss, epoch)\n",
    "        writer.add_scalar('detail_loss', detail_loss, epoch)\n",
    "        writer.add_scalar('matte_loss', matte_loss, epoch)\n",
    "\n",
    "\n",
    "#        if idx % update_freq == 0:\n",
    "#            # Efficiently update the plot\n",
    "#            ax.clear()\n",
    "#            if len(semantic_losses) > 0:\n",
    "#                ax.plot(semantic_losses, label='Semantic Loss')\n",
    "#            if len(detail_losses) > 0:\n",
    "#                ax.plot(detail_losses, label='Detail Loss')\n",
    "#            if len(matte_losses) > 0:\n",
    "#               ax.plot(matte_losses, label='Matte Loss')\n",
    "#            \n",
    "#            ax.legend()\n",
    "#            plt.draw()\n",
    "#            plt.pause(0.1)  # A slightly longer pause to ensure the GUI has time to update\n",
    "\n",
    "    lr_scheduler.step()\n",
    "\n",
    " # Turn off interactive mode when done to finalize the plot\n",
    "torch.save(modnet.state_dict(), 'model_path.pth')\n",
    "\n"
   ]
  },
  {
   "cell_type": "raw",
   "id": "e770c256-bba3-41a1-b3a1-0f8aad880ff0",
   "metadata": {
    "ExecutionIndicator": {
     "show": true
    },
    "execution": {
     "iopub.execute_input": "2024-03-27T11:49:40.807533Z",
     "iopub.status.busy": "2024-03-27T11:49:40.807259Z",
     "iopub.status.idle": "2024-03-27T11:49:40.812555Z",
     "shell.execute_reply": "2024-03-27T11:49:40.812122Z",
     "shell.execute_reply.started": "2024-03-27T11:49:40.807513Z"
    },
    "tags": []
   },
   "source": [
    "import numpy as np\n",
    "import os\n",
    "from PIL import Image\n",
    "\n",
    "def combined_display(image, matte):\n",
    "  # calculate display resolution\n",
    "  w, h = image.width, image.height\n",
    "  rw, rh = 800, int(h * 800 / (3 * w))\n",
    "  \n",
    "  # obtain predicted foreground\n",
    "  image = np.asarray(image)\n",
    "  if len(image.shape) == 2:\n",
    "    image = image[:, :, None]\n",
    "  if image.shape[2] == 1:\n",
    "    image = np.repeat(image, 3, axis=2)\n",
    "  elif image.shape[2] == 4:\n",
    "    image = image[:, :, 0:3]\n",
    "  matte = np.repeat(np.asarray(matte)[:, :, None], 3, axis=2) / 255\n",
    "  foreground = image * matte + np.full(image.shape, 255) * (1 - matte)\n",
    "  \n",
    "  # combine image, foreground, and alpha into one line\n",
    "  combined = np.concatenate((image, foreground, matte * 255), axis=1)\n",
    "  combined = Image.fromarray(np.uint8(combined)).resize((rw, rh))\n",
    "  return combined\n",
    "\n",
    "# visualize all images\n",
    "#image_names = os.listdir(input_folder)\n",
    "#for image_name in image_names:\n",
    "  #matte_name = image_name.split('.')[0] + '.png'\n",
    "  #image = Image.open(os.path.join(input_folder, image_name))\n",
    "  #matte = Image.open(os.path.join(output_folder, matte_name))\n",
    "  #display(combined_display(image, matte))\n",
    "  #print(image_name, '\\n')"
   ]
  },
  {
   "cell_type": "code",
   "execution_count": null,
   "id": "0c897331-4c30-4bd2-9b2f-2ac84716c965",
   "metadata": {
    "ExecutionIndicator": {
     "show": true
    },
    "execution": {
     "iopub.status.busy": "2024-03-27T20:22:13.520524Z",
     "iopub.status.idle": "2024-03-27T20:22:13.520696Z",
     "shell.execute_reply": "2024-03-27T20:22:13.520621Z",
     "shell.execute_reply.started": "2024-03-27T20:22:13.520613Z"
    },
    "tags": []
   },
   "outputs": [],
   "source": [
    "#a,b,c=modnet(data[1][0].unsqueeze(0).cuda(),False)"
   ]
  },
  {
   "cell_type": "raw",
   "id": "ef8f1705-77b0-465a-a555-d7c01b9927e0",
   "metadata": {
    "ExecutionIndicator": {
     "show": true
    },
    "execution": {
     "iopub.execute_input": "2024-03-27T14:15:54.240842Z",
     "iopub.status.busy": "2024-03-27T14:15:54.240409Z",
     "iopub.status.idle": "2024-03-27T14:15:54.586732Z",
     "shell.execute_reply": "2024-03-27T14:15:54.586081Z",
     "shell.execute_reply.started": "2024-03-27T14:15:54.240822Z"
    },
    "tags": []
   },
   "source": [
    "print(a.shape,c.shape)\n",
    "origin=transforms.ToPILImage()(data[1][0].squeeze().cuda())\n",
    "cc=transforms.ToPILImage()(c.squeeze().cuda())\n",
    "print(\"hi\")\n",
    "ss = combined_display(origin,cc)\n",
    "#imb =transforms.ToPILImage()(im.squeeze().cpu())"
   ]
  },
  {
   "cell_type": "code",
   "execution_count": 16,
   "id": "ff6aab5c-c6a9-437d-ac72-7a572bb9d3df",
   "metadata": {
    "ExecutionIndicator": {
     "show": true
    },
    "execution": {
     "iopub.execute_input": "2024-03-27T23:13:28.837962Z",
     "iopub.status.busy": "2024-03-27T23:13:28.837697Z",
     "iopub.status.idle": "2024-03-27T23:13:28.841420Z",
     "shell.execute_reply": "2024-03-27T23:13:28.840971Z",
     "shell.execute_reply.started": "2024-03-27T23:13:28.837946Z"
    },
    "tags": []
   },
   "outputs": [],
   "source": [
    "test = ModNetImageGenerator(file_size[1],modnet)"
   ]
  },
  {
   "cell_type": "code",
   "execution_count": 27,
   "id": "5e773466-8487-4035-93af-cfdca53c8110",
   "metadata": {
    "ExecutionIndicator": {
     "show": true
    },
    "execution": {
     "iopub.execute_input": "2024-03-27T23:30:16.775419Z",
     "iopub.status.busy": "2024-03-27T23:30:16.775116Z",
     "iopub.status.idle": "2024-03-27T23:30:17.583841Z",
     "shell.execute_reply": "2024-03-27T23:30:17.583447Z",
     "shell.execute_reply.started": "2024-03-27T23:30:16.775402Z"
    },
    "tags": []
   },
   "outputs": [
    {
     "data": {
      "image/jpeg": "[encoded data removed]",
      "image/png": "[encoded data removed]",
      "text/plain": [
       "<PIL.Image.Image image mode=RGB size=800x177>"
      ]
     },
     "metadata": {},
     "output_type": "display_data"
    }
   ],
   "source": [
    "test.show(1)"
   ]
  },
  {
   "cell_type": "code",
   "execution_count": 21,
   "id": "a683ac8c-90d9-4045-8937-0f2738f86562",
   "metadata": {
    "execution": {
     "iopub.execute_input": "2024-03-27T23:16:10.354092Z",
     "iopub.status.busy": "2024-03-27T23:16:10.353830Z",
     "iopub.status.idle": "2024-03-27T23:16:10.356610Z",
     "shell.execute_reply": "2024-03-27T23:16:10.356052Z",
     "shell.execute_reply.started": "2024-03-27T23:16:10.354076Z"
    },
    "tags": []
   },
   "outputs": [],
   "source": [
    "hi=ImageMatteLoader(file_size[1])"
   ]
  },
  {
   "cell_type": "code",
   "execution_count": 22,
   "id": "7f9991d0-8418-47a2-9e9f-c943df534c37",
   "metadata": {
    "execution": {
     "iopub.execute_input": "2024-03-27T23:16:15.190249Z",
     "iopub.status.busy": "2024-03-27T23:16:15.189967Z",
     "iopub.status.idle": "2024-03-27T23:16:15.744597Z",
     "shell.execute_reply": "2024-03-27T23:16:15.744184Z",
     "shell.execute_reply.started": "2024-03-27T23:16:15.190233Z"
    }
   },
   "outputs": [
    {
     "data": {
      "image/jpeg": "[encoded data removed]",
      "image/png": "[encoded data removed]",
      "text/plain": [
       "<PIL.Image.Image image mode=RGB size=800x177>"
      ]
     },
     "metadata": {},
     "output_type": "display_data"
    }
   ],
   "source": [
    "hi.show(5)"
   ]
  },
  {
   "cell_type": "code",
   "execution_count": null,
   "id": "aec4af8a-feea-4d97-925a-a8380c83f810",
   "metadata": {},
   "outputs": [],
   "source": []
  }
 ],
 "metadata": {
  "kernelspec": {
   "display_name": "Python 3 (ipykernel)",
   "language": "python",
   "name": "python3"
  },
  "language_info": {
   "codemirror_mode": {
    "name": "ipython",
    "version": 3
   },
   "file_extension": ".py",
   "mimetype": "text/x-python",
   "name": "python",
   "nbconvert_exporter": "python",
   "pygments_lexer": "ipython3",
   "version": "3.11.5"
  }
 },
 "nbformat": 4,
 "nbformat_minor": 5
}
